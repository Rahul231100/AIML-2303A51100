{
  "nbformat": 4,
  "nbformat_minor": 0,
  "metadata": {
    "colab": {
      "provenance": [],
      "authorship_tag": "ABX9TyNmVS4Ot0sUYIk1aTmIpzK/",
      "include_colab_link": true
    },
    "kernelspec": {
      "name": "python3",
      "display_name": "Python 3"
    },
    "language_info": {
      "name": "python"
    }
  },
  "cells": [
    {
      "cell_type": "markdown",
      "metadata": {
        "id": "view-in-github",
        "colab_type": "text"
      },
      "source": [
        "<a href=\"https://colab.research.google.com/github/Rahul231100/AIML-2303A51100/blob/main/2303A51100__05_labexam.ipynb\" target=\"_parent\"><img src=\"https://colab.research.google.com/assets/colab-badge.svg\" alt=\"Open In Colab\"/></a>"
      ]
    },
    {
      "cell_type": "markdown",
      "source": [
        "\n",
        "5.Prediction of Recipe reviews and feedback\n",
        "\n",
        "Q1. Identify the recipe most appreciated?  \n",
        "Q2. List the top 5 recipes prepared the most?  \n",
        "Q3. Identify the recipe with the most users' delight?  \n",
        "Q4. Name the recipe with the highest reputation?  \n",
        "Q5. Most ordered recipes among the 100 recipes list?\n",
        "\n",
        "Recipe reviews and feedback - UCI ML Repo"
      ],
      "metadata": {
        "id": "Sf34YfxSnSd8"
      }
    },
    {
      "cell_type": "code",
      "execution_count": null,
      "metadata": {
        "colab": {
          "base_uri": "https://localhost:8080/"
        },
        "id": "rFOpOnBQmhzL",
        "outputId": "dae3c7a1-ef34-4f02-877e-59c203ac994d"
      },
      "outputs": [
        {
          "output_type": "stream",
          "name": "stdout",
          "text": [
            "   Unnamed: 0  recipe_number  recipe_code         recipe_name  \\\n",
            "0           0              1        14299  Creamy White Chili   \n",
            "1           1              1        14299  Creamy White Chili   \n",
            "2           2              1        14299  Creamy White Chili   \n",
            "3           3              1        14299  Creamy White Chili   \n",
            "4           4              1        14299  Creamy White Chili   \n",
            "\n",
            "                                        comment_id         user_id  \\\n",
            "0  sp_aUSaElGf_14299_c_2G3aneMRgRMZwXqIHmSdXSG1hEM  u_9iFLIhMa8QaG   \n",
            "1  sp_aUSaElGf_14299_c_2FsPC83HtzCsQAtOxlbL6RcaPbY  u_Lu6p25tmE77j   \n",
            "2  sp_aUSaElGf_14299_c_2FPrSGyTv7PQkZq37j92r9mYGkP  u_s0LwgpZ8Jsqq   \n",
            "3  sp_aUSaElGf_14299_c_2DzdSIgV9qNiuBaLoZ7JQaartoC  u_fqrybAdYjgjG   \n",
            "4  sp_aUSaElGf_14299_c_2DtZJuRQYeTFwXBoZRfRhBPEXjI  u_XXWKwVhKZD69   \n",
            "\n",
            "    user_name  user_reputation  created_at  reply_count  thumbs_up  \\\n",
            "0     Jeri326                1  1665619889            0          0   \n",
            "1     Mark467               50  1665277687            0          7   \n",
            "2  Barbara566               10  1664404557            0          3   \n",
            "3  jeansch123                1  1661787808            2          2   \n",
            "4    camper77               10  1664913823            1          7   \n",
            "\n",
            "   thumbs_down  stars  best_score  \\\n",
            "0            0      5         527   \n",
            "1            0      5         724   \n",
            "2            0      5         710   \n",
            "3            0      0         581   \n",
            "4            0      0         820   \n",
            "\n",
            "                                                text  \n",
            "0  I tweaked it a little, removed onions because ...  \n",
            "1  Bush used to have a white chili bean and it ma...  \n",
            "2  I have a very complicated white chicken chili ...  \n",
            "3  In your introduction, you mentioned cream chee...  \n",
            "4  Wonderful! I made this for a &#34;Chili/Stew&#...  \n"
          ]
        }
      ],
      "source": [
        "\n",
        "import pandas as pd\n",
        "import numpy as np\n",
        "\n",
        "\n",
        "data = pd.read_csv('Recipe Reviews and User Feedback Dataset.csv')\n",
        "\n",
        "\n",
        "print(data.head())\n",
        "\n",
        "\n"
      ]
    },
    {
      "cell_type": "code",
      "source": [
        "print(data.columns)\n"
      ],
      "metadata": {
        "colab": {
          "base_uri": "https://localhost:8080/"
        },
        "id": "-r_QOSOUtyDt",
        "outputId": "086061d6-e9ef-40b5-b029-c7a4e4240d26"
      },
      "execution_count": null,
      "outputs": [
        {
          "output_type": "stream",
          "name": "stdout",
          "text": [
            "Index(['Unnamed: 0', 'recipe_number', 'recipe_code', 'recipe_name',\n",
            "       'comment_id', 'user_id', 'user_name', 'user_reputation', 'created_at',\n",
            "       'reply_count', 'thumbs_up', 'thumbs_down', 'stars', 'best_score',\n",
            "       'text'],\n",
            "      dtype='object')\n"
          ]
        }
      ]
    },
    {
      "cell_type": "code",
      "source": [
        "print(data.head())\n"
      ],
      "metadata": {
        "colab": {
          "base_uri": "https://localhost:8080/"
        },
        "id": "gehVm-_Yt2Fe",
        "outputId": "e92c64ea-1295-4387-f602-1884b2b9cf72"
      },
      "execution_count": null,
      "outputs": [
        {
          "output_type": "stream",
          "name": "stdout",
          "text": [
            "   Unnamed: 0  recipe_number  recipe_code         recipe_name  \\\n",
            "0           0              1        14299  Creamy White Chili   \n",
            "1           1              1        14299  Creamy White Chili   \n",
            "2           2              1        14299  Creamy White Chili   \n",
            "3           3              1        14299  Creamy White Chili   \n",
            "4           4              1        14299  Creamy White Chili   \n",
            "\n",
            "                                        comment_id         user_id  \\\n",
            "0  sp_aUSaElGf_14299_c_2G3aneMRgRMZwXqIHmSdXSG1hEM  u_9iFLIhMa8QaG   \n",
            "1  sp_aUSaElGf_14299_c_2FsPC83HtzCsQAtOxlbL6RcaPbY  u_Lu6p25tmE77j   \n",
            "2  sp_aUSaElGf_14299_c_2FPrSGyTv7PQkZq37j92r9mYGkP  u_s0LwgpZ8Jsqq   \n",
            "3  sp_aUSaElGf_14299_c_2DzdSIgV9qNiuBaLoZ7JQaartoC  u_fqrybAdYjgjG   \n",
            "4  sp_aUSaElGf_14299_c_2DtZJuRQYeTFwXBoZRfRhBPEXjI  u_XXWKwVhKZD69   \n",
            "\n",
            "    user_name  user_reputation  created_at  reply_count  thumbs_up  \\\n",
            "0     Jeri326                1  1665619889            0          0   \n",
            "1     Mark467               50  1665277687            0          7   \n",
            "2  Barbara566               10  1664404557            0          3   \n",
            "3  jeansch123                1  1661787808            2          2   \n",
            "4    camper77               10  1664913823            1          7   \n",
            "\n",
            "   thumbs_down  stars  best_score  \\\n",
            "0            0      5         527   \n",
            "1            0      5         724   \n",
            "2            0      5         710   \n",
            "3            0      0         581   \n",
            "4            0      0         820   \n",
            "\n",
            "                                                text  \n",
            "0  I tweaked it a little, removed onions because ...  \n",
            "1  Bush used to have a white chili bean and it ma...  \n",
            "2  I have a very complicated white chicken chili ...  \n",
            "3  In your introduction, you mentioned cream chee...  \n",
            "4  Wonderful! I made this for a &#34;Chili/Stew&#...  \n"
          ]
        }
      ]
    },
    {
      "cell_type": "code",
      "source": [
        "data = pd.read_csv('Recipe Reviews and User Feedback Dataset.csv', header=0)\n"
      ],
      "metadata": {
        "id": "zCa0jEH5uWCH"
      },
      "execution_count": 61,
      "outputs": []
    },
    {
      "source": [
        "import pandas as pd\n",
        "\n",
        "# Assuming your data is in a pandas DataFrame called 'data'\n",
        "# and you want to create an Index object:\n",
        "\n",
        "# Correct way to create an Index object:\n",
        "my_index = pd.Index(['Recipe Name', 'Appreciation Score', 'User Delight', ...], dtype='object')\n",
        "\n",
        "# Print the index to verify\n",
        "print(my_index)"
      ],
      "cell_type": "code",
      "metadata": {
        "colab": {
          "base_uri": "https://localhost:8080/"
        },
        "id": "uf2qcQ4vvhVN",
        "outputId": "fd658c08-7458-4c61-d31b-b3374650fa3e"
      },
      "execution_count": null,
      "outputs": [
        {
          "output_type": "stream",
          "name": "stdout",
          "text": [
            "Index(['Recipe Name', 'Appreciation Score', 'User Delight', Ellipsis], dtype='object')\n"
          ]
        }
      ]
    },
    {
      "cell_type": "code",
      "source": [
        "import pandas as pd\n",
        "\n",
        "# Load the dataset\n",
        "data = pd.read_csv('Recipe Reviews and User Feedback Dataset.csv')\n",
        "\n",
        "# Display the column names\n",
        "print(\"Column Names:\")\n",
        "print(data.columns)\n",
        "\n",
        "# Display the first few rows of the dataset\n",
        "print(\"\\nFirst 5 Rows:\")\n",
        "print(data.head())\n"
      ],
      "metadata": {
        "colab": {
          "base_uri": "https://localhost:8080/"
        },
        "id": "Pf6LAK1kxAi2",
        "outputId": "e8fb7a3a-afd9-4961-90d6-c9281cc2b142"
      },
      "execution_count": null,
      "outputs": [
        {
          "output_type": "stream",
          "name": "stdout",
          "text": [
            "Column Names:\n",
            "Index(['Unnamed: 0', 'recipe_number', 'recipe_code', 'recipe_name',\n",
            "       'comment_id', 'user_id', 'user_name', 'user_reputation', 'created_at',\n",
            "       'reply_count', 'thumbs_up', 'thumbs_down', 'stars', 'best_score',\n",
            "       'text'],\n",
            "      dtype='object')\n",
            "\n",
            "First 5 Rows:\n",
            "   Unnamed: 0  recipe_number  recipe_code         recipe_name  \\\n",
            "0           0              1        14299  Creamy White Chili   \n",
            "1           1              1        14299  Creamy White Chili   \n",
            "2           2              1        14299  Creamy White Chili   \n",
            "3           3              1        14299  Creamy White Chili   \n",
            "4           4              1        14299  Creamy White Chili   \n",
            "\n",
            "                                        comment_id         user_id  \\\n",
            "0  sp_aUSaElGf_14299_c_2G3aneMRgRMZwXqIHmSdXSG1hEM  u_9iFLIhMa8QaG   \n",
            "1  sp_aUSaElGf_14299_c_2FsPC83HtzCsQAtOxlbL6RcaPbY  u_Lu6p25tmE77j   \n",
            "2  sp_aUSaElGf_14299_c_2FPrSGyTv7PQkZq37j92r9mYGkP  u_s0LwgpZ8Jsqq   \n",
            "3  sp_aUSaElGf_14299_c_2DzdSIgV9qNiuBaLoZ7JQaartoC  u_fqrybAdYjgjG   \n",
            "4  sp_aUSaElGf_14299_c_2DtZJuRQYeTFwXBoZRfRhBPEXjI  u_XXWKwVhKZD69   \n",
            "\n",
            "    user_name  user_reputation  created_at  reply_count  thumbs_up  \\\n",
            "0     Jeri326                1  1665619889            0          0   \n",
            "1     Mark467               50  1665277687            0          7   \n",
            "2  Barbara566               10  1664404557            0          3   \n",
            "3  jeansch123                1  1661787808            2          2   \n",
            "4    camper77               10  1664913823            1          7   \n",
            "\n",
            "   thumbs_down  stars  best_score  \\\n",
            "0            0      5         527   \n",
            "1            0      5         724   \n",
            "2            0      5         710   \n",
            "3            0      0         581   \n",
            "4            0      0         820   \n",
            "\n",
            "                                                text  \n",
            "0  I tweaked it a little, removed onions because ...  \n",
            "1  Bush used to have a white chili bean and it ma...  \n",
            "2  I have a very complicated white chicken chili ...  \n",
            "3  In your introduction, you mentioned cream chee...  \n",
            "4  Wonderful! I made this for a &#34;Chili/Stew&#...  \n"
          ]
        }
      ]
    },
    {
      "cell_type": "code",
      "source": [
        "data = pd.read_csv('Recipe Reviews and User Feedback Dataset.csv', header=0)\n"
      ],
      "metadata": {
        "id": "NVRlDMBAxEbE"
      },
      "execution_count": null,
      "outputs": []
    },
    {
      "source": [
        "import pandas as pd\n",
        "\n",
        "\n",
        "file_path = 'Recipe Reviews and User Feedback Dataset.csv'\n",
        "data = pd.read_csv(file_path)\n",
        "\n",
        "recipe_thumbs_up = data.groupby('recipe_name')['thumbs_up'].sum().reset_index()\n",
        "most_appreciated_recipe = recipe_thumbs_up.sort_values(by='thumbs_up', ascending=False).iloc[0]\n",
        "print(f\"Most Appreciated Recipe: {most_appreciated_recipe['recipe_name']}\")"
      ],
      "cell_type": "code",
      "metadata": {
        "colab": {
          "base_uri": "https://localhost:8080/"
        },
        "id": "vlzgtGEp59Yv",
        "outputId": "ce948226-1646-411b-bd0b-c084cab27fbf"
      },
      "execution_count": 68,
      "outputs": [
        {
          "output_type": "stream",
          "name": "stdout",
          "text": [
            "Most Appreciated Recipe: Amish Breakfast Casserole\n"
          ]
        }
      ]
    },
    {
      "cell_type": "code",
      "source": [
        "top_5_recipes = data['recipe_name'].value_counts().head(5)\n",
        "print(\"Top 5 Recipes Prepared the Most:\")\n",
        "print(top_5_recipes.index.tolist())\n"
      ],
      "metadata": {
        "colab": {
          "base_uri": "https://localhost:8080/"
        },
        "id": "6b30NeIA5S9b",
        "outputId": "3cdb7063-4305-46b9-c977-4bbe9dbfd8f8"
      },
      "execution_count": 69,
      "outputs": [
        {
          "output_type": "stream",
          "name": "stdout",
          "text": [
            "Top 5 Recipes Prepared the Most:\n",
            "['Cheeseburger Soup', 'Creamy White Chili', 'Best Ever Banana Bread', 'Enchilada Casser-Ole!', 'Basic Homemade Bread']\n"
          ]
        }
      ]
    },
    {
      "cell_type": "code",
      "source": [
        "recipe_thumbs_up = data.groupby('recipe_name')['thumbs_up'].sum().reset_index()\n",
        "most_users_delight_recipe = recipe_thumbs_up.sort_values(by='thumbs_up', ascending=False).iloc[0]\n",
        "print(f\"Most Users' Delight Recipe: {most_users_delight_recipe['recipe_name']}\")\n"
      ],
      "metadata": {
        "colab": {
          "base_uri": "https://localhost:8080/"
        },
        "id": "9hTGmtt64oeD",
        "outputId": "773e0b82-4437-4157-9eec-72acdf3ad8cc"
      },
      "execution_count": 70,
      "outputs": [
        {
          "output_type": "stream",
          "name": "stdout",
          "text": [
            "Most Users' Delight Recipe: Amish Breakfast Casserole\n"
          ]
        }
      ]
    },
    {
      "cell_type": "code",
      "source": [
        "highest_reputation_user = data.loc[data['user_reputation'].idxmax()]\n",
        "highest_reputation_recipe = data[data['user_id'] == highest_reputation_user['user_id']]['recipe_name'].iloc[0]\n",
        "print(f\"Recipe with Highest Reputation: {highest_reputation_recipe}\")\n"
      ],
      "metadata": {
        "colab": {
          "base_uri": "https://localhost:8080/"
        },
        "id": "ojNurWwb4sZ5",
        "outputId": "37be59f9-da07-45e2-a21c-8ac4b620779e"
      },
      "execution_count": 71,
      "outputs": [
        {
          "output_type": "stream",
          "name": "stdout",
          "text": [
            "Recipe with Highest Reputation: Winning Apple Crisp\n"
          ]
        }
      ]
    },
    {
      "cell_type": "code",
      "source": [
        "top_100_recipes = data['recipe_name'].value_counts().head(100)\n",
        "most_ordered_recipe = top_100_recipes.idxmax()\n",
        "print(f\"Most Ordered Recipe Among the Top 100: {most_ordered_recipe}\")\n"
      ],
      "metadata": {
        "colab": {
          "base_uri": "https://localhost:8080/"
        },
        "id": "fqiF_vq64vRn",
        "outputId": "2c62330d-6721-492d-ce8f-1caa435c9380"
      },
      "execution_count": 72,
      "outputs": [
        {
          "output_type": "stream",
          "name": "stdout",
          "text": [
            "Most Ordered Recipe Among the Top 100: Cheeseburger Soup\n"
          ]
        }
      ]
    }
  ]
}